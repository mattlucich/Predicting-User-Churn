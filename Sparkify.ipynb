{
 "cells": [
  {
   "cell_type": "markdown",
   "metadata": {},
   "source": [
    "# Sparkify Project Workspace\n",
    "This workspace contains a tiny subset (128MB) of the full dataset available (12GB). Feel free to use this workspace to build your project, or to explore a smaller subset with Spark before deploying your cluster on the cloud. Instructions for setting up your Spark cluster is included in the last lesson of the Extracurricular Spark Course content.\n",
    "\n",
    "You can follow the steps below to guide your data analysis and model building portion of this project."
   ]
  },
  {
   "cell_type": "code",
   "execution_count": 1,
   "metadata": {},
   "outputs": [],
   "source": [
    "# import libraries\n",
    "from pyspark.sql import SparkSession\n",
    "from pyspark.ml.feature import RegexTokenizer, VectorAssembler, Normalizer, StandardScaler\n",
    "from pyspark.sql import Window\n",
    "from pyspark.sql import Row, functions as F\n",
    "from pyspark.sql.types import IntegerType\n",
    "from pyspark.sql import functions as funcs\n",
    "\n",
    "import datetime\n",
    "import re\n",
    "import numpy as np\n",
    "import pandas as pd\n",
    "import seaborn as sns\n",
    "%matplotlib inline\n",
    "import matplotlib.pyplot as plt"
   ]
  },
  {
   "cell_type": "code",
   "execution_count": 2,
   "metadata": {},
   "outputs": [
    {
     "data": {
      "text/html": [
       "<style>.container { width:100% !important; }</style>"
      ],
      "text/plain": [
       "<IPython.core.display.HTML object>"
      ]
     },
     "metadata": {},
     "output_type": "display_data"
    }
   ],
   "source": [
    "from IPython.core.display import display, HTML\n",
    "display(HTML(\"<style>.container { width:100% !important; }</style>\"))"
   ]
  },
  {
   "cell_type": "code",
   "execution_count": 3,
   "metadata": {},
   "outputs": [],
   "source": [
    "# create a Spark session\n",
    "spark = SparkSession.builder \\\n",
    "    .master(\"local\") \\\n",
    "    .appName(\"Sparkify\") \\\n",
    "    .getOrCreate()"
   ]
  },
  {
   "cell_type": "code",
   "execution_count": 4,
   "metadata": {},
   "outputs": [
    {
     "data": {
      "text/plain": [
       "[('spark.master', 'local'),\n",
       " ('spark.rdd.compress', 'True'),\n",
       " ('spark.app.name', 'Sparkify'),\n",
       " ('spark.serializer.objectStreamReset', '100'),\n",
       " ('spark.executor.id', 'driver'),\n",
       " ('spark.submit.deployMode', 'client'),\n",
       " ('spark.driver.host', '5f50cd5556ad'),\n",
       " ('spark.driver.port', '34037'),\n",
       " ('spark.ui.showConsoleProgress', 'true'),\n",
       " ('spark.app.id', 'local-1576356671684')]"
      ]
     },
     "execution_count": 4,
     "metadata": {},
     "output_type": "execute_result"
    }
   ],
   "source": [
    "spark.sparkContext.getConf().getAll()"
   ]
  },
  {
   "cell_type": "markdown",
   "metadata": {},
   "source": [
    "# Load and Clean Dataset\n",
    "In this workspace, the mini-dataset file is `mini_sparkify_event_data.json`. Load and clean the dataset, checking for invalid or missing data - for example, records without userids or sessionids. "
   ]
  },
  {
   "cell_type": "code",
   "execution_count": 5,
   "metadata": {},
   "outputs": [],
   "source": [
    "sparkify_event_data = 'mini_sparkify_event_data.json'"
   ]
  },
  {
   "cell_type": "code",
   "execution_count": 6,
   "metadata": {},
   "outputs": [],
   "source": [
    "sp_df_raw = spark.read.json(sparkify_event_data)"
   ]
  },
  {
   "cell_type": "code",
   "execution_count": 8,
   "metadata": {},
   "outputs": [
    {
     "data": {
      "text/plain": [
       "[Row(artist=58392, auth=0, firstName=8346, gender=8346, itemInSession=0, lastName=8346, length=58392, level=0, location=8346, method=0, page=0, registration=8346, sessionId=0, song=58392, status=0, ts=0, userAgent=8346, userId=0)]"
      ]
     },
     "execution_count": 8,
     "metadata": {},
     "output_type": "execute_result"
    }
   ],
   "source": [
    "# Null value counts for each column\n",
    "sp_df_raw.select([funcs.count(funcs.when(funcs.isnull(c), c)).alias(c) \n",
    "                  for c in sp_df_raw.columns]).take(1)"
   ]
  },
  {
   "cell_type": "code",
   "execution_count": 10,
   "metadata": {},
   "outputs": [],
   "source": [
    "# Skip removing null values, since UserID and SessionID have zero null values.\n",
    "sp_df = sp_df_raw\n",
    "#sp_df = sp_df_raw.na.drop()"
   ]
  },
  {
   "cell_type": "markdown",
   "metadata": {},
   "source": [
    "# Exploratory Data Analysis\n",
    "When you're working with the full dataset, perform EDA by loading a small subset of the data and doing basic manipulations within Spark. In this workspace, you are already provided a small subset of data you can explore.\n",
    "\n",
    "### Define Churn\n",
    "\n",
    "Once you've done some preliminary analysis, create a column `Churn` to use as the label for your model. I suggest using the `Cancellation Confirmation` events to define your churn, which happen for both paid and free users. As a bonus task, you can also look into the `Downgrade` events.\n",
    "\n",
    "### Explore Data\n",
    "Once you've defined churn, perform some exploratory data analysis to observe the behavior for users who stayed vs users who churned. You can start by exploring aggregates on these two groups of users, observing how much of a specific action they experienced per a certain time unit or number of songs played."
   ]
  },
  {
   "cell_type": "code",
   "execution_count": 8,
   "metadata": {},
   "outputs": [
    {
     "data": {
      "text/plain": [
       "[Row(artist='Martha Tilston', auth='Logged In', firstName='Colin', gender='M', itemInSession=50, lastName='Freeman', length=277.89016, level='paid', location='Bakersfield, CA', method='PUT', page='NextSong', registration=1538173362000, sessionId=29, song='Rockpools', status=200, ts=1538352117000, userAgent='Mozilla/5.0 (Windows NT 6.1; WOW64; rv:31.0) Gecko/20100101 Firefox/31.0', userId='30'),\n",
       " Row(artist='Five Iron Frenzy', auth='Logged In', firstName='Micah', gender='M', itemInSession=79, lastName='Long', length=236.09424, level='free', location='Boston-Cambridge-Newton, MA-NH', method='PUT', page='NextSong', registration=1538331630000, sessionId=8, song='Canada', status=200, ts=1538352180000, userAgent='\"Mozilla/5.0 (Windows NT 6.1; WOW64) AppleWebKit/537.36 (KHTML, like Gecko) Chrome/37.0.2062.103 Safari/537.36\"', userId='9'),\n",
       " Row(artist='Adam Lambert', auth='Logged In', firstName='Colin', gender='M', itemInSession=51, lastName='Freeman', length=282.8273, level='paid', location='Bakersfield, CA', method='PUT', page='NextSong', registration=1538173362000, sessionId=29, song='Time For Miracles', status=200, ts=1538352394000, userAgent='Mozilla/5.0 (Windows NT 6.1; WOW64; rv:31.0) Gecko/20100101 Firefox/31.0', userId='30'),\n",
       " Row(artist='Enigma', auth='Logged In', firstName='Micah', gender='M', itemInSession=80, lastName='Long', length=262.71302, level='free', location='Boston-Cambridge-Newton, MA-NH', method='PUT', page='NextSong', registration=1538331630000, sessionId=8, song='Knocking On Forbidden Doors', status=200, ts=1538352416000, userAgent='\"Mozilla/5.0 (Windows NT 6.1; WOW64) AppleWebKit/537.36 (KHTML, like Gecko) Chrome/37.0.2062.103 Safari/537.36\"', userId='9'),\n",
       " Row(artist='Daft Punk', auth='Logged In', firstName='Colin', gender='M', itemInSession=52, lastName='Freeman', length=223.60771, level='paid', location='Bakersfield, CA', method='PUT', page='NextSong', registration=1538173362000, sessionId=29, song='Harder Better Faster Stronger', status=200, ts=1538352676000, userAgent='Mozilla/5.0 (Windows NT 6.1; WOW64; rv:31.0) Gecko/20100101 Firefox/31.0', userId='30')]"
      ]
     },
     "execution_count": 8,
     "metadata": {},
     "output_type": "execute_result"
    }
   ],
   "source": [
    "sp_df.head(5)"
   ]
  },
  {
   "cell_type": "code",
   "execution_count": 9,
   "metadata": {},
   "outputs": [
    {
     "name": "stdout",
     "output_type": "stream",
     "text": [
      "root\n",
      " |-- artist: string (nullable = true)\n",
      " |-- auth: string (nullable = true)\n",
      " |-- firstName: string (nullable = true)\n",
      " |-- gender: string (nullable = true)\n",
      " |-- itemInSession: long (nullable = true)\n",
      " |-- lastName: string (nullable = true)\n",
      " |-- length: double (nullable = true)\n",
      " |-- level: string (nullable = true)\n",
      " |-- location: string (nullable = true)\n",
      " |-- method: string (nullable = true)\n",
      " |-- page: string (nullable = true)\n",
      " |-- registration: long (nullable = true)\n",
      " |-- sessionId: long (nullable = true)\n",
      " |-- song: string (nullable = true)\n",
      " |-- status: long (nullable = true)\n",
      " |-- ts: long (nullable = true)\n",
      " |-- userAgent: string (nullable = true)\n",
      " |-- userId: string (nullable = true)\n",
      "\n"
     ]
    }
   ],
   "source": [
    "sp_df.printSchema()"
   ]
  },
  {
   "cell_type": "code",
   "execution_count": 11,
   "metadata": {},
   "outputs": [
    {
     "name": "stdout",
     "output_type": "stream",
     "text": [
      "(286500, 18)\n"
     ]
    }
   ],
   "source": [
    "# Get the shape of the dataframe\n",
    "print((sp_df.count(), len(sp_df.columns)))"
   ]
  },
  {
   "cell_type": "code",
   "execution_count": 12,
   "metadata": {},
   "outputs": [
    {
     "name": "stdout",
     "output_type": "stream",
     "text": [
      "+----------+\n",
      "|      auth|\n",
      "+----------+\n",
      "|Logged Out|\n",
      "| Cancelled|\n",
      "|     Guest|\n",
      "| Logged In|\n",
      "+----------+\n",
      "\n"
     ]
    }
   ],
   "source": [
    "# Let's explore the authorization types\n",
    "sp_df.select('auth').distinct().show()"
   ]
  },
  {
   "cell_type": "code",
   "execution_count": 13,
   "metadata": {},
   "outputs": [
    {
     "name": "stdout",
     "output_type": "stream",
     "text": [
      "+--------------------+\n",
      "|                page|\n",
      "+--------------------+\n",
      "|              Cancel|\n",
      "|    Submit Downgrade|\n",
      "|         Thumbs Down|\n",
      "|                Home|\n",
      "|           Downgrade|\n",
      "|         Roll Advert|\n",
      "|              Logout|\n",
      "|       Save Settings|\n",
      "|Cancellation Conf...|\n",
      "|               About|\n",
      "| Submit Registration|\n",
      "|            Settings|\n",
      "|               Login|\n",
      "|            Register|\n",
      "|     Add to Playlist|\n",
      "|          Add Friend|\n",
      "|            NextSong|\n",
      "|           Thumbs Up|\n",
      "|                Help|\n",
      "|             Upgrade|\n",
      "|               Error|\n",
      "|      Submit Upgrade|\n",
      "+--------------------+\n",
      "\n"
     ]
    }
   ],
   "source": [
    "# Let's explore the page types\n",
    "sp_df.select('page').distinct().show(30)"
   ]
  },
  {
   "cell_type": "code",
   "execution_count": 31,
   "metadata": {},
   "outputs": [],
   "source": [
    "# Let's create an hour of the day column for later analysis\n",
    "get_hour = funcs.udf(lambda x: datetime.datetime.fromtimestamp(x / 1000.0). hour)\n",
    "sp_df = sp_df.withColumn(\"hour\", get_hour(sp_df.ts))"
   ]
  },
  {
   "cell_type": "code",
   "execution_count": 32,
   "metadata": {},
   "outputs": [
    {
     "data": {
      "text/plain": [
       "Row(artist=None, auth='Logged In', firstName='Darianna', gender='F', itemInSession=34, lastName='Carpenter', length=None, level='free', location='Bridgeport-Stamford-Norwalk, CT', method='PUT', page='Logout', registration=1538016340000, sessionId=187, song=None, status=307, ts=1542823952000, userAgent='\"Mozilla/5.0 (iPhone; CPU iPhone OS 7_1_2 like Mac OS X) AppleWebKit/537.51.2 (KHTML, like Gecko) Version/7.0 Mobile/11D257 Safari/9537.53\"', userId='100010', churn=0, phase=0, songPlay=0, hour='18', dateTime='2018-11-21')"
      ]
     },
     "execution_count": 32,
     "metadata": {},
     "output_type": "execute_result"
    }
   ],
   "source": [
    "# Create date column from ts\n",
    "get_timestamp = funcs.udf(lambda x : datetime.datetime.fromtimestamp(x/ 1000.0).strftime(\"%Y-%m-%d\"))\n",
    "sp_df = sp_df.withColumn(\"dateTime\", get_timestamp(sp_df.ts))\n",
    "sp_df.head()"
   ]
  },
  {
   "cell_type": "code",
   "execution_count": 13,
   "metadata": {},
   "outputs": [
    {
     "data": {
      "text/plain": [
       "0"
      ]
     },
     "execution_count": 13,
     "metadata": {},
     "output_type": "execute_result"
    }
   ],
   "source": [
    "# Any browsers other than Mozilla?\n",
    "non_mozilla_users = sp_df.filter(\"userAgent not like '%Mozilla%'\")\n",
    "non_mozilla_users.select('userAgent').count()"
   ]
  },
  {
   "cell_type": "code",
   "execution_count": 17,
   "metadata": {},
   "outputs": [
    {
     "data": {
      "text/plain": [
       "0"
      ]
     },
     "execution_count": 17,
     "metadata": {},
     "output_type": "execute_result"
    }
   ],
   "source": [
    "# Any browsers other than Mozilla 5?\n",
    "non_mozilla_5_users = sp_df.filter(\"userAgent not like '%Mozilla/5%'\")\n",
    "non_mozilla_5_users.select('userAgent').count()"
   ]
  },
  {
   "cell_type": "code",
   "execution_count": 18,
   "metadata": {},
   "outputs": [
    {
     "data": {
      "text/plain": [
       "125322"
      ]
     },
     "execution_count": 18,
     "metadata": {},
     "output_type": "execute_result"
    }
   ],
   "source": [
    "# How many Mac users are there?\n",
    "mac_users = sp_df.filter(\"userAgent like '%Mac%'\")\n",
    "mac_users.select('userAgent').count()"
   ]
  },
  {
   "cell_type": "code",
   "execution_count": 19,
   "metadata": {},
   "outputs": [
    {
     "data": {
      "text/plain": [
       "143871"
      ]
     },
     "execution_count": 19,
     "metadata": {},
     "output_type": "execute_result"
    }
   ],
   "source": [
    "# How many Windows users are there?\n",
    "windows_users = sp_df.filter(\"userAgent like '%Windows%'\")\n",
    "windows_users.select('userAgent').count()"
   ]
  },
  {
   "cell_type": "code",
   "execution_count": 30,
   "metadata": {},
   "outputs": [
    {
     "data": {
      "text/plain": [
       "8961"
      ]
     },
     "execution_count": 30,
     "metadata": {},
     "output_type": "execute_result"
    }
   ],
   "source": [
    "# Are there other operating systems being used?\n",
    "other_users = sp_df.where('userAgent not like \"%Windows%\" and userAgent not like \"%Mac%\"')\n",
    "other_users.select('userAgent').count()"
   ]
  },
  {
   "cell_type": "code",
   "execution_count": 12,
   "metadata": {},
   "outputs": [],
   "source": [
    "# Create churn event column\n",
    "flag_churn_event = funcs.udf(lambda x: 1 if x == \"Cancellation Confirmation\" else 0, IntegerType())\n",
    "sp_df = sp_df.withColumn(\"churn\", flag_churn_event(\"page\"))"
   ]
  },
  {
   "cell_type": "code",
   "execution_count": 14,
   "metadata": {},
   "outputs": [],
   "source": [
    "# Create column that classifies churned user\n",
    "windowval = Window.partitionBy(\"userId\").orderBy(funcs.desc(\"ts\")) \\\n",
    "                .rangeBetween(Window.unboundedPreceding, 0)\n",
    "sp_df = sp_df.withColumn(\"phase\", funcs.sum(\"churn\").over(windowval))"
   ]
  },
  {
   "cell_type": "code",
   "execution_count": 15,
   "metadata": {},
   "outputs": [],
   "source": [
    "# Create song play column\n",
    "flag_song_play_event = funcs.udf(lambda x: 1 if x == \"NextSong\" else 0, IntegerType())\n",
    "sp_df = sp_df.withColumn(\"songPlay\", flag_song_play_event(\"page\"))"
   ]
  },
  {
   "cell_type": "code",
   "execution_count": 16,
   "metadata": {},
   "outputs": [],
   "source": [
    "# Seperate active and churned users for analysis\n",
    "still_active = sp_df.where(sp_df['phase'] == \"0\")\n",
    "not_active = sp_df.where(sp_df['phase'] == \"1\")"
   ]
  },
  {
   "cell_type": "code",
   "execution_count": 17,
   "metadata": {},
   "outputs": [
    {
     "data": {
      "text/plain": [
       "174"
      ]
     },
     "execution_count": 17,
     "metadata": {},
     "output_type": "execute_result"
    }
   ],
   "source": [
    "# How many active users?\n",
    "still_active.select('userId').distinct().count()"
   ]
  },
  {
   "cell_type": "code",
   "execution_count": 19,
   "metadata": {},
   "outputs": [
    {
     "data": {
      "text/plain": [
       "52"
      ]
     },
     "execution_count": 19,
     "metadata": {},
     "output_type": "execute_result"
    }
   ],
   "source": [
    "# How many churned users?\n",
    "not_active.select('userId').distinct().count()"
   ]
  },
  {
   "cell_type": "code",
   "execution_count": 192,
   "metadata": {
    "scrolled": true
   },
   "outputs": [
    {
     "name": "stdout",
     "output_type": "stream",
     "text": [
      "+-------+------------------+------------------+\n",
      "|summary|            userId|             count|\n",
      "+-------+------------------+------------------+\n",
      "|  count|               173|               173|\n",
      "|   mean| 60756.87861271676|1108.1734104046243|\n",
      "| stddev|110276.04376677402|1183.1467030410008|\n",
      "|    min|                10|                 3|\n",
      "|    max|                99|              8002|\n",
      "+-------+------------------+------------------+\n",
      "\n"
     ]
    }
   ],
   "source": [
    "# Song play counts for active users\n",
    "still_active.filter(still_active.page == \"NextSong\") \\\n",
    "    .groupby(still_active.userId).count().describe().show()"
   ]
  },
  {
   "cell_type": "code",
   "execution_count": 51,
   "metadata": {},
   "outputs": [
    {
     "name": "stdout",
     "output_type": "stream",
     "text": [
      "+-------+-----------------+-----------------+\n",
      "|summary|           userId|            count|\n",
      "+-------+-----------------+-----------------+\n",
      "|  count|               52|               52|\n",
      "|   mean|80808.42307692308|699.8846153846154|\n",
      "| stddev| 86381.6770659117|714.7376497666588|\n",
      "|    min|           100001|                8|\n",
      "|    max|               87|             3028|\n",
      "+-------+-----------------+-----------------+\n",
      "\n"
     ]
    }
   ],
   "source": [
    "# Song play counts for inactive users\n",
    "not_active.filter(not_active.page == \"NextSong\") \\\n",
    "    .groupby(not_active.userId).count().describe().show()"
   ]
  },
  {
   "cell_type": "code",
   "execution_count": 189,
   "metadata": {},
   "outputs": [
    {
     "name": "stdout",
     "output_type": "stream",
     "text": [
      "+-------+------------------+-----------------+\n",
      "|summary|            userId|            count|\n",
      "+-------+------------------+-----------------+\n",
      "|  count|               170|              170|\n",
      "|   mean| 61826.81764705882|62.89411764705882|\n",
      "| stddev|110951.66714991374|70.55134074678884|\n",
      "|    min|                10|                1|\n",
      "|    max|                99|              437|\n",
      "+-------+------------------+-----------------+\n",
      "\n"
     ]
    }
   ],
   "source": [
    "# Thumbs up counts for active users\n",
    "still_active.filter(still_active.page == \"Thumbs Up\") \\\n",
    "    .groupby(still_active.userId).count().describe().show()"
   ]
  },
  {
   "cell_type": "code",
   "execution_count": 191,
   "metadata": {},
   "outputs": [
    {
     "name": "stdout",
     "output_type": "stream",
     "text": [
      "+-------+-----------------+-----------------+\n",
      "|summary|           userId|            count|\n",
      "+-------+-----------------+-----------------+\n",
      "|  count|               50|               50|\n",
      "|   mean|         82038.04|            37.18|\n",
      "| stddev|87318.01473431026|39.82445664335893|\n",
      "|    min|           100001|                1|\n",
      "|    max|               87|              163|\n",
      "+-------+-----------------+-----------------+\n",
      "\n"
     ]
    }
   ],
   "source": [
    "# Thumbs up counts for not active users\n",
    "not_active.filter(not_active.page == \"Thumbs Up\") \\\n",
    "    .groupby(not_active.userId).count().describe().show()"
   ]
  },
  {
   "cell_type": "code",
   "execution_count": 193,
   "metadata": {},
   "outputs": [
    {
     "name": "stdout",
     "output_type": "stream",
     "text": [
      "+-------+------------------+------------------+\n",
      "|summary|            userId|             count|\n",
      "+-------+------------------+------------------+\n",
      "|  count|               155|               155|\n",
      "|   mean| 60707.66451612903|13.225806451612904|\n",
      "| stddev|110753.28788812358|14.201951753145037|\n",
      "|    min|                10|                 1|\n",
      "|    max|                99|                75|\n",
      "+-------+------------------+------------------+\n",
      "\n"
     ]
    }
   ],
   "source": [
    "# Thumbs down counts for active users\n",
    "still_active.filter(still_active.page == \"Thumbs Down\") \\\n",
    "    .groupby(still_active.userId).count().describe().show()"
   ]
  },
  {
   "cell_type": "code",
   "execution_count": 194,
   "metadata": {},
   "outputs": [
    {
     "name": "stdout",
     "output_type": "stream",
     "text": [
      "+-------+-----------------+------------------+\n",
      "|summary|           userId|             count|\n",
      "+-------+-----------------+------------------+\n",
      "|  count|               48|                48|\n",
      "|   mean|83369.64583333333|10.333333333333334|\n",
      "| stddev|88303.42177570147| 9.013779837024787|\n",
      "|    min|           100001|                 1|\n",
      "|    max|               87|                36|\n",
      "+-------+-----------------+------------------+\n",
      "\n"
     ]
    }
   ],
   "source": [
    "# Thumbs down counts for not active users\n",
    "not_active.filter(not_active.page == \"Thumbs Down\") \\\n",
    "    .groupby(not_active.userId).count().describe().show()"
   ]
  },
  {
   "cell_type": "code",
   "execution_count": 195,
   "metadata": {},
   "outputs": [
    {
     "name": "stdout",
     "output_type": "stream",
     "text": [
      "+-------+------------------+------------------+\n",
      "|summary|            userId|             count|\n",
      "+-------+------------------+------------------+\n",
      "|  count|               162|               162|\n",
      "|   mean| 63024.90740740741| 22.47530864197531|\n",
      "| stddev|111365.94317213274|22.322926581126953|\n",
      "|    min|                10|                 1|\n",
      "|    max|                99|               143|\n",
      "+-------+------------------+------------------+\n",
      "\n"
     ]
    }
   ],
   "source": [
    "# Add Friend counts for active users\n",
    "still_active.filter(still_active.page == \"Add Friend\") \\\n",
    "    .groupby(still_active.userId).count().describe().show()"
   ]
  },
  {
   "cell_type": "code",
   "execution_count": 52,
   "metadata": {},
   "outputs": [
    {
     "name": "stdout",
     "output_type": "stream",
     "text": [
      "+-------+-----------------+------------------+\n",
      "|summary|           userId|             count|\n",
      "+-------+-----------------+------------------+\n",
      "|  count|               44|                44|\n",
      "|   mean|77313.84090909091|14.454545454545455|\n",
      "| stddev|88539.41804168439|10.712858054485752|\n",
      "|    min|           100001|                 1|\n",
      "|    max|               87|                47|\n",
      "+-------+-----------------+------------------+\n",
      "\n"
     ]
    }
   ],
   "source": [
    "# Add Friend counts for not active users\n",
    "not_active.filter(not_active.page == \"Add Friend\") \\\n",
    "    .groupby(not_active.userId).count().describe().show()"
   ]
  },
  {
   "cell_type": "code",
   "execution_count": 196,
   "metadata": {},
   "outputs": [
    {
     "name": "stdout",
     "output_type": "stream",
     "text": [
      "+-------+------------------+-----------------+\n",
      "|summary|            userId|            count|\n",
      "+-------+------------------+-----------------+\n",
      "|  count|               165|              165|\n",
      "|   mean| 61275.10909090909|33.26060606060606|\n",
      "| stddev|111277.15933238767|35.17758033417074|\n",
      "|    min|                10|                1|\n",
      "|    max|                99|              240|\n",
      "+-------+------------------+-----------------+\n",
      "\n"
     ]
    }
   ],
   "source": [
    "# Add to playlist counts for active users\n",
    "still_active.filter(still_active.page == \"Add to Playlist\") \\\n",
    "    .groupby(still_active.userId).count().describe().show()"
   ]
  },
  {
   "cell_type": "code",
   "execution_count": 197,
   "metadata": {},
   "outputs": [
    {
     "name": "stdout",
     "output_type": "stream",
     "text": [
      "+-------+-----------------+------------------+\n",
      "|summary|           userId|             count|\n",
      "+-------+-----------------+------------------+\n",
      "|  count|               50|                50|\n",
      "|   mean|         82037.78|             20.76|\n",
      "| stddev|87317.96010529915|21.199306881237835|\n",
      "|    min|           100001|                 1|\n",
      "|    max|               87|                89|\n",
      "+-------+-----------------+------------------+\n",
      "\n"
     ]
    }
   ],
   "source": [
    "# Add to playlist counts for not active users\n",
    "not_active.filter(not_active.page == \"Add to Playlist\") \\\n",
    "    .groupby(not_active.userId).count().describe().show()"
   ]
  },
  {
   "cell_type": "code",
   "execution_count": 198,
   "metadata": {},
   "outputs": [
    {
     "name": "stdout",
     "output_type": "stream",
     "text": [
      "+-------+------------------+------------------+\n",
      "|summary|            userId|             count|\n",
      "+-------+------------------+------------------+\n",
      "|  count|               150|               150|\n",
      "|   mean|63149.275167785236| 9.913333333333334|\n",
      "| stddev|112287.40621382179|22.862277087957192|\n",
      "|    min|                  |                 1|\n",
      "|    max|                99|               272|\n",
      "+-------+------------------+------------------+\n",
      "\n"
     ]
    }
   ],
   "source": [
    "# Add to playlist counts for active users\n",
    "still_active.filter(still_active.page == \"Help\") \\\n",
    "    .groupby(still_active.userId).count().describe().show()"
   ]
  },
  {
   "cell_type": "code",
   "execution_count": 199,
   "metadata": {},
   "outputs": [
    {
     "name": "stdout",
     "output_type": "stream",
     "text": [
      "+-------+-----------------+-----------------+\n",
      "|summary|           userId|            count|\n",
      "+-------+-----------------+-----------------+\n",
      "|  count|               43|               43|\n",
      "|   mean|81434.04651162791|5.558139534883721|\n",
      "| stddev|90624.11417785884|5.301851992605508|\n",
      "|    min|           100001|                1|\n",
      "|    max|               87|               28|\n",
      "+-------+-----------------+-----------------+\n",
      "\n"
     ]
    }
   ],
   "source": [
    "# Add to playlist counts for not active users\n",
    "not_active.filter(not_active.page == \"Help\") \\\n",
    "    .groupby(not_active.userId).count().describe().show()"
   ]
  },
  {
   "cell_type": "code",
   "execution_count": 200,
   "metadata": {},
   "outputs": [
    {
     "data": {
      "text/plain": [
       "0.4540229885057471"
      ]
     },
     "execution_count": 200,
     "metadata": {},
     "output_type": "execute_result"
    }
   ],
   "source": [
    "mac_usersnew = still_active.filter(\"userAgent like '%Mac%'\")\n",
    "mac_user_pct = mac_usersnew.select('userId').distinct().count() \\\n",
    "    / still_active.select('userId').distinct().count()\n",
    "mac_user_pct"
   ]
  },
  {
   "cell_type": "code",
   "execution_count": 201,
   "metadata": {},
   "outputs": [
    {
     "data": {
      "text/plain": [
       "0.4423076923076923"
      ]
     },
     "execution_count": 201,
     "metadata": {},
     "output_type": "execute_result"
    }
   ],
   "source": [
    "mac_users_not_active = not_active.filter(\"userAgent like '%Mac%'\")\n",
    "mac_user_not_active_pct = mac_users_not_active.select('userId').distinct().count() \\\n",
    "    / not_active.select('userId').distinct().count()\n",
    "mac_user_not_active_pct"
   ]
  },
  {
   "cell_type": "code",
   "execution_count": 202,
   "metadata": {},
   "outputs": [
    {
     "data": {
      "text/plain": [
       "0.5114942528735632"
      ]
     },
     "execution_count": 202,
     "metadata": {},
     "output_type": "execute_result"
    }
   ],
   "source": [
    "# Percentage of active users who are male\n",
    "male_users = still_active.filter(\"gender like '%M%'\")\n",
    "male_user_pct = male_users.select('userId').distinct().count() \\\n",
    "    / still_active.select('userId').distinct().count()\n",
    "male_user_pct"
   ]
  },
  {
   "cell_type": "code",
   "execution_count": 203,
   "metadata": {},
   "outputs": [
    {
     "data": {
      "text/plain": [
       "0.6153846153846154"
      ]
     },
     "execution_count": 203,
     "metadata": {},
     "output_type": "execute_result"
    }
   ],
   "source": [
    "# Looks like males are slightly more likely to cancel.\n",
    "# We'll explore this further during the modeling process.\n",
    "male_users_not_active = not_active.filter(\"gender like '%M%'\")\n",
    "male_user_not_active_pct = male_users_not_active.select('userId').distinct().count() \\\n",
    "    / not_active.select('userId').distinct().count()\n",
    "male_user_not_active_pct"
   ]
  },
  {
   "cell_type": "code",
   "execution_count": 185,
   "metadata": {},
   "outputs": [],
   "source": [
    "gender_churn = not_active.select([\"userId\", \"gender\"]) \\\n",
    "                .dropDuplicates([\"userId\", \"gender\"]) \\\n",
    "                .groupby([\"gender\"]) \\\n",
    "                .count().toPandas()"
   ]
  },
  {
   "cell_type": "code",
   "execution_count": 187,
   "metadata": {},
   "outputs": [
    {
     "data": {
      "text/plain": [
       "Text(0.5,1,'Churn by Gender')"
      ]
     },
     "execution_count": 187,
     "metadata": {},
     "output_type": "execute_result"
    },
    {
     "data": {
      "image/png": "[encoded data removed]",
      "text/plain": [
       "<matplotlib.figure.Figure at 0x7f3aacf564a8>"
      ]
     },
     "metadata": {
      "needs_background": "light"
     },
     "output_type": "display_data"
    }
   ],
   "source": [
    "# Let's compare churn count by gender\n",
    "ax = sns.barplot(x='gender', y='count', data=gender_churn)\n",
    "plt.xlabel('Active or Not')\n",
    "plt.ylabel('Count')\n",
    "plt.legend(title='Gender')\n",
    "plt.title('Churn by Gender')"
   ]
  },
  {
   "cell_type": "code",
   "execution_count": 204,
   "metadata": {},
   "outputs": [
    {
     "name": "stdout",
     "output_type": "stream",
     "text": [
      "+----+-----+\n",
      "|hour|count|\n",
      "+----+-----+\n",
      "|   0| 7527|\n",
      "|   1| 7035|\n",
      "|   2| 7014|\n",
      "|   3| 7063|\n",
      "|   4| 6914|\n",
      "|   5| 6960|\n",
      "|   6| 6836|\n",
      "|   7| 6873|\n",
      "|   8| 7023|\n",
      "|   9| 7268|\n",
      "|  10| 7502|\n",
      "|  11| 7440|\n",
      "|  12| 7918|\n",
      "|  13| 8073|\n",
      "|  14| 8792|\n",
      "|  15| 9462|\n",
      "|  16| 9721|\n",
      "|  17| 9464|\n",
      "|  18| 9146|\n",
      "|  19| 9112|\n",
      "+----+-----+\n",
      "only showing top 20 rows\n",
      "\n"
     ]
    }
   ],
   "source": [
    "# Let's view active users listening patterns throughout the day\n",
    "songs_in_hour = still_active.filter(still_active.page == \"NextSong\") \\\n",
    "    .groupby(still_active.hour).count().orderBy(still_active.hour.cast(\"float\"))\n",
    "songs_in_hour.show()\n",
    "songs_in_hour_pd = songs_in_hour.toPandas()\n",
    "songs_in_hour_pd.hour = pd.to_numeric(songs_in_hour_pd.hour)"
   ]
  },
  {
   "cell_type": "code",
   "execution_count": 23,
   "metadata": {},
   "outputs": [
    {
     "data": {
      "image/png": "[encoded data removed]",
      "text/plain": [
       "<matplotlib.figure.Figure at 0x7f3ad896bef0>"
      ]
     },
     "metadata": {
      "needs_background": "light"
     },
     "output_type": "display_data"
    }
   ],
   "source": [
    "# Let's plot active users listening patterns throughout the day\n",
    "plt.scatter(songs_in_hour_pd[\"hour\"], songs_in_hour_pd[\"count\"])\n",
    "plt.xlim(-1, 24);\n",
    "plt.ylim(0, 1.2 * max(songs_in_hour_pd[\"count\"]))\n",
    "plt.xlabel(\"Hour\")\n",
    "plt.ylabel(\"Songs played\");"
   ]
  },
  {
   "cell_type": "code",
   "execution_count": 205,
   "metadata": {},
   "outputs": [
    {
     "name": "stdout",
     "output_type": "stream",
     "text": [
      "+----+-----+\n",
      "|hour|count|\n",
      "+----+-----+\n",
      "|   0| 1535|\n",
      "|   1| 1353|\n",
      "|   2| 1322|\n",
      "|   3| 1292|\n",
      "|   4| 1233|\n",
      "|   5| 1218|\n",
      "|   6| 1218|\n",
      "|   7| 1218|\n",
      "|   8| 1230|\n",
      "|   9| 1230|\n",
      "|  10| 1380|\n",
      "|  11| 1390|\n",
      "|  12| 1408|\n",
      "|  13| 1571|\n",
      "|  14| 1702|\n",
      "|  15| 1892|\n",
      "|  16| 1915|\n",
      "|  17| 1996|\n",
      "|  18| 1978|\n",
      "|  19| 1818|\n",
      "+----+-----+\n",
      "only showing top 20 rows\n",
      "\n"
     ]
    }
   ],
   "source": [
    "# Let's view churned users listening patterns throughout the day\n",
    "songs_in_hour = not_active.filter(not_active.page == \"NextSong\") \\\n",
    "    .groupby(not_active.hour).count().orderBy(not_active.hour.cast(\"float\"))\n",
    "songs_in_hour.show()\n",
    "songs_in_hour_pd = songs_in_hour.toPandas()\n",
    "songs_in_hour_pd.hour = pd.to_numeric(songs_in_hour_pd.hour)"
   ]
  },
  {
   "cell_type": "code",
   "execution_count": 60,
   "metadata": {},
   "outputs": [
    {
     "data": {
      "image/png": "[encoded data removed]",
      "text/plain": [
       "<matplotlib.figure.Figure at 0x7fcb9d42d4a8>"
      ]
     },
     "metadata": {
      "needs_background": "light"
     },
     "output_type": "display_data"
    }
   ],
   "source": [
    "# Let's plot churned users listening patterns throughout the day\n",
    "plt.scatter(songs_in_hour_pd[\"hour\"], songs_in_hour_pd[\"count\"])\n",
    "plt.xlim(-1, 24);\n",
    "plt.ylim(0, 1.2 * max(songs_in_hour_pd[\"count\"]))\n",
    "plt.xlabel(\"Hour\")\n",
    "plt.ylabel(\"Songs played\");"
   ]
  },
  {
   "cell_type": "code",
   "execution_count": 206,
   "metadata": {},
   "outputs": [
    {
     "data": {
      "text/html": [
       "<div>\n",
       "<style scoped>\n",
       "    .dataframe tbody tr th:only-of-type {\n",
       "        vertical-align: middle;\n",
       "    }\n",
       "\n",
       "    .dataframe tbody tr th {\n",
       "        vertical-align: top;\n",
       "    }\n",
       "\n",
       "    .dataframe thead th {\n",
       "        text-align: right;\n",
       "    }\n",
       "</style>\n",
       "<table border=\"1\" class=\"dataframe\">\n",
       "  <thead>\n",
       "    <tr style=\"text-align: right;\">\n",
       "      <th></th>\n",
       "      <th>userId</th>\n",
       "      <th>count</th>\n",
       "    </tr>\n",
       "  </thead>\n",
       "  <tbody>\n",
       "    <tr>\n",
       "      <th>93</th>\n",
       "      <td>156</td>\n",
       "      <td>3</td>\n",
       "    </tr>\n",
       "    <tr>\n",
       "      <th>92</th>\n",
       "      <td>135</td>\n",
       "      <td>6</td>\n",
       "    </tr>\n",
       "    <tr>\n",
       "      <th>110</th>\n",
       "      <td>300003</td>\n",
       "      <td>27</td>\n",
       "    </tr>\n",
       "    <tr>\n",
       "      <th>24</th>\n",
       "      <td>22</td>\n",
       "      <td>28</td>\n",
       "    </tr>\n",
       "    <tr>\n",
       "      <th>71</th>\n",
       "      <td>68</td>\n",
       "      <td>29</td>\n",
       "    </tr>\n",
       "    <tr>\n",
       "      <th>19</th>\n",
       "      <td>133</td>\n",
       "      <td>32</td>\n",
       "    </tr>\n",
       "    <tr>\n",
       "      <th>72</th>\n",
       "      <td>90</td>\n",
       "      <td>37</td>\n",
       "    </tr>\n",
       "    <tr>\n",
       "      <th>123</th>\n",
       "      <td>134</td>\n",
       "      <td>37</td>\n",
       "    </tr>\n",
       "    <tr>\n",
       "      <th>15</th>\n",
       "      <td>64</td>\n",
       "      <td>46</td>\n",
       "    </tr>\n",
       "    <tr>\n",
       "      <th>18</th>\n",
       "      <td>34</td>\n",
       "      <td>53</td>\n",
       "    </tr>\n",
       "  </tbody>\n",
       "</table>\n",
       "</div>"
      ],
      "text/plain": [
       "     userId  count\n",
       "93      156      3\n",
       "92      135      6\n",
       "110  300003     27\n",
       "24       22     28\n",
       "71       68     29\n",
       "19      133     32\n",
       "72       90     37\n",
       "123     134     37\n",
       "15       64     46\n",
       "18       34     53"
      ]
     },
     "execution_count": 206,
     "metadata": {},
     "output_type": "execute_result"
    }
   ],
   "source": [
    "# Song play counts for active users\n",
    "active_song_count = still_active.filter(still_active.page == \"NextSong\") \\\n",
    "    .groupby(still_active.userId).count()\n",
    "active_song_count_pd = active_song_count.toPandas()\n",
    "active_song_count_pd = active_song_count_pd.sort_values(by=['count'])\n",
    "active_song_count_pd.head(10)"
   ]
  },
  {
   "cell_type": "code",
   "execution_count": 31,
   "metadata": {},
   "outputs": [
    {
     "data": {
      "text/plain": [
       "Text(0,0.5,'Song count')"
      ]
     },
     "execution_count": 31,
     "metadata": {},
     "output_type": "execute_result"
    },
    {
     "data": {
      "image/png": "[encoded data removed]",
      "text/plain": [
       "<matplotlib.figure.Figure at 0x7f7f3cebb160>"
      ]
     },
     "metadata": {
      "needs_background": "light"
     },
     "output_type": "display_data"
    }
   ],
   "source": [
    "plt.hist(active_song_count_pd)\n",
    "plt.title('Freq Dist Active User Song Count')\n",
    "plt.xlabel('User ID')\n",
    "plt.ylabel('Song count')"
   ]
  },
  {
   "cell_type": "code",
   "execution_count": 207,
   "metadata": {},
   "outputs": [
    {
     "data": {
      "text/html": [
       "<div>\n",
       "<style scoped>\n",
       "    .dataframe tbody tr th:only-of-type {\n",
       "        vertical-align: middle;\n",
       "    }\n",
       "\n",
       "    .dataframe tbody tr th {\n",
       "        vertical-align: top;\n",
       "    }\n",
       "\n",
       "    .dataframe thead th {\n",
       "        text-align: right;\n",
       "    }\n",
       "</style>\n",
       "<table border=\"1\" class=\"dataframe\">\n",
       "  <thead>\n",
       "    <tr style=\"text-align: right;\">\n",
       "      <th></th>\n",
       "      <th>userId</th>\n",
       "      <th>count</th>\n",
       "    </tr>\n",
       "  </thead>\n",
       "  <tbody>\n",
       "    <tr>\n",
       "      <th>0</th>\n",
       "      <td>125</td>\n",
       "      <td>8</td>\n",
       "    </tr>\n",
       "    <tr>\n",
       "      <th>31</th>\n",
       "      <td>100011</td>\n",
       "      <td>11</td>\n",
       "    </tr>\n",
       "    <tr>\n",
       "      <th>26</th>\n",
       "      <td>100024</td>\n",
       "      <td>22</td>\n",
       "    </tr>\n",
       "    <tr>\n",
       "      <th>14</th>\n",
       "      <td>100006</td>\n",
       "      <td>26</td>\n",
       "    </tr>\n",
       "    <tr>\n",
       "      <th>28</th>\n",
       "      <td>122</td>\n",
       "      <td>41</td>\n",
       "    </tr>\n",
       "    <tr>\n",
       "      <th>24</th>\n",
       "      <td>100003</td>\n",
       "      <td>51</td>\n",
       "    </tr>\n",
       "    <tr>\n",
       "      <th>45</th>\n",
       "      <td>100017</td>\n",
       "      <td>52</td>\n",
       "    </tr>\n",
       "    <tr>\n",
       "      <th>32</th>\n",
       "      <td>100019</td>\n",
       "      <td>62</td>\n",
       "    </tr>\n",
       "    <tr>\n",
       "      <th>39</th>\n",
       "      <td>32</td>\n",
       "      <td>80</td>\n",
       "    </tr>\n",
       "    <tr>\n",
       "      <th>38</th>\n",
       "      <td>143</td>\n",
       "      <td>101</td>\n",
       "    </tr>\n",
       "  </tbody>\n",
       "</table>\n",
       "</div>"
      ],
      "text/plain": [
       "    userId  count\n",
       "0      125      8\n",
       "31  100011     11\n",
       "26  100024     22\n",
       "14  100006     26\n",
       "28     122     41\n",
       "24  100003     51\n",
       "45  100017     52\n",
       "32  100019     62\n",
       "39      32     80\n",
       "38     143    101"
      ]
     },
     "execution_count": 207,
     "metadata": {},
     "output_type": "execute_result"
    }
   ],
   "source": [
    "# Song play counts for churned users\n",
    "not_active_song_count = not_active.filter(not_active.page == \"NextSong\") \\\n",
    "    .groupby(not_active.userId).count()\n",
    "not_active_song_count_pd = not_active_song_count.toPandas()\n",
    "not_active_song_count_pd = not_active_song_count_pd.sort_values(by=['count'])\n",
    "not_active_song_count_pd.head(10)"
   ]
  },
  {
   "cell_type": "code",
   "execution_count": 33,
   "metadata": {},
   "outputs": [
    {
     "data": {
      "text/plain": [
       "Text(0,0.5,'Song count')"
      ]
     },
     "execution_count": 33,
     "metadata": {},
     "output_type": "execute_result"
    },
    {
     "data": {
      "image/png": "[encoded data removed]",
      "text/plain": [
       "<matplotlib.figure.Figure at 0x7f7f3ce83b38>"
      ]
     },
     "metadata": {
      "needs_background": "light"
     },
     "output_type": "display_data"
    }
   ],
   "source": [
    "plt.hist(not_active_song_count_pd)\n",
    "plt.title('Freq Dist Churned User Song Count')\n",
    "plt.xlabel('User ID')\n",
    "plt.ylabel('Song count')"
   ]
  },
  {
   "cell_type": "markdown",
   "metadata": {},
   "source": [
    "# Feature Engineering\n",
    "Once you've familiarized yourself with the data, build out the features you find promising to train your model on. To work with the full dataset, you can follow the following steps.\n",
    "- Write a script to extract the necessary features from the smaller subset of data\n",
    "- Ensure that your script is scalable, using the best practices discussed in Lesson 3\n",
    "- Try your script on the full data set, debugging your script if necessary\n",
    "\n",
    "If you are working in the classroom workspace, you can just extract features based on the small subset of data contained here. Be sure to transfer over this work to the larger dataset when you work on your Spark cluster."
   ]
  },
  {
   "cell_type": "code",
   "execution_count": 163,
   "metadata": {},
   "outputs": [
    {
     "data": {
      "text/plain": [
       "[Row(artist=None, auth='Logged In', firstName='Mason', gender='M', itemInSession=9, lastName='Hart', length=None, level='free', location='Corpus Christi, TX', method='PUT', page='Cancel', registration=1533157139000, sessionId=174, song=None, status=307, ts=1539318918000, userAgent='\"Mozilla/5.0 (Macintosh; Intel Mac OS X 10_9_4) AppleWebKit/537.36 (KHTML, like Gecko) Chrome/36.0.1985.125 Safari/537.36\"', userId='125', hour='4', dateTime='2018-10-12', churn=0, phase=1, songPlay=0),\n",
       " Row(artist=None, auth='Cancelled', firstName='Mason', gender='M', itemInSession=10, lastName='Hart', length=None, level='free', location='Corpus Christi, TX', method='GET', page='Cancellation Confirmation', registration=1533157139000, sessionId=174, song=None, status=200, ts=1539318918000, userAgent='\"Mozilla/5.0 (Macintosh; Intel Mac OS X 10_9_4) AppleWebKit/537.36 (KHTML, like Gecko) Chrome/36.0.1985.125 Safari/537.36\"', userId='125', hour='4', dateTime='2018-10-12', churn=1, phase=1, songPlay=0),\n",
       " Row(artist=None, auth='Logged In', firstName='Mason', gender='M', itemInSession=8, lastName='Hart', length=None, level='free', location='Corpus Christi, TX', method='GET', page='Roll Advert', registration=1533157139000, sessionId=174, song=None, status=200, ts=1539318917000, userAgent='\"Mozilla/5.0 (Macintosh; Intel Mac OS X 10_9_4) AppleWebKit/537.36 (KHTML, like Gecko) Chrome/36.0.1985.125 Safari/537.36\"', userId='125', hour='4', dateTime='2018-10-12', churn=0, phase=1, songPlay=0)]"
      ]
     },
     "execution_count": 163,
     "metadata": {},
     "output_type": "execute_result"
    }
   ],
   "source": [
    "not_active.take(3)"
   ]
  },
  {
   "cell_type": "markdown",
   "metadata": {},
   "source": [
    "### Feature Extraction"
   ]
  },
  {
   "cell_type": "code",
   "execution_count": 18,
   "metadata": {},
   "outputs": [],
   "source": [
    "# Numeral Variables\n",
    "trim_df = sp_df.select('userID', 'page', 'length')"
   ]
  },
  {
   "cell_type": "code",
   "execution_count": 19,
   "metadata": {},
   "outputs": [
    {
     "data": {
      "text/plain": [
       "225"
      ]
     },
     "execution_count": 19,
     "metadata": {},
     "output_type": "execute_result"
    }
   ],
   "source": [
    "# Create feature for song count\n",
    "userSongCount = trim_df.filter((trim_df.page == 'NextSong')) \\\n",
    "    .groupBy('userId') \\\n",
    "    .agg({'page':'count'}).withColumnRenamed('count(page)', 'songCount')\n",
    "userSongCount.count()"
   ]
  },
  {
   "cell_type": "code",
   "execution_count": 20,
   "metadata": {},
   "outputs": [
    {
     "data": {
      "text/plain": [
       "220"
      ]
     },
     "execution_count": 20,
     "metadata": {},
     "output_type": "execute_result"
    }
   ],
   "source": [
    "# Create feature for thumb up count\n",
    "userThumbUpCount = trim_df.filter((trim_df.page == 'Thumbs Up')) \\\n",
    "    .groupBy('userId') \\\n",
    "    .agg({'page':'count'}).withColumnRenamed('count(page)', 'thumbUpCount')\n",
    "userThumbUpCount.count()"
   ]
  },
  {
   "cell_type": "code",
   "execution_count": 21,
   "metadata": {},
   "outputs": [
    {
     "data": {
      "text/plain": [
       "203"
      ]
     },
     "execution_count": 21,
     "metadata": {},
     "output_type": "execute_result"
    }
   ],
   "source": [
    "# Create feature for thumb down count\n",
    "userThumbDownCount = trim_df.filter((trim_df.page == 'Thumbs Down')) \\\n",
    "    .groupBy('userId') \\\n",
    "    .agg({'page':'count'}).withColumnRenamed('count(page)', 'thumbDownCount')\n",
    "userThumbDownCount.count()"
   ]
  },
  {
   "cell_type": "code",
   "execution_count": 22,
   "metadata": {},
   "outputs": [
    {
     "data": {
      "text/plain": [
       "215"
      ]
     },
     "execution_count": 22,
     "metadata": {},
     "output_type": "execute_result"
    }
   ],
   "source": [
    "# Create feature for add to playlist count\n",
    "userAddToPlaylistCount = trim_df.filter((trim_df.page == 'Add to Playlist')) \\\n",
    "    .groupBy('userId') \\\n",
    "    .agg({'page':'count'}).withColumnRenamed('count(page)', 'AddToPlaylistCount')\n",
    "userAddToPlaylistCount.count()"
   ]
  },
  {
   "cell_type": "code",
   "execution_count": 23,
   "metadata": {},
   "outputs": [
    {
     "data": {
      "text/plain": [
       "206"
      ]
     },
     "execution_count": 23,
     "metadata": {},
     "output_type": "execute_result"
    }
   ],
   "source": [
    "# Create feature for add friend count\n",
    "userAddFriendCount = trim_df.filter((trim_df.page == 'Add Friend')) \\\n",
    "    .groupBy('userId') \\\n",
    "    .agg({'page':'count'}).withColumnRenamed('count(page)', 'AddFriendCount')\n",
    "userAddFriendCount.count()"
   ]
  },
  {
   "cell_type": "code",
   "execution_count": 24,
   "metadata": {},
   "outputs": [
    {
     "data": {
      "text/plain": [
       "193"
      ]
     },
     "execution_count": 24,
     "metadata": {},
     "output_type": "execute_result"
    }
   ],
   "source": [
    "# Create feature for help page visit count\n",
    "userHelpCount = trim_df.filter((trim_df.page == 'Help')) \\\n",
    "    .groupBy('userId') \\\n",
    "    .agg({'page':'count'}).withColumnRenamed('count(page)', 'helpCount')\n",
    "userHelpCount.count()"
   ]
  },
  {
   "cell_type": "code",
   "execution_count": 25,
   "metadata": {},
   "outputs": [
    {
     "data": {
      "text/plain": [
       "118"
      ]
     },
     "execution_count": 25,
     "metadata": {},
     "output_type": "execute_result"
    }
   ],
   "source": [
    "# Create feature for error count\n",
    "userErrorCount = trim_df.filter((trim_df.page == 'Error')) \\\n",
    "    .groupBy('userId') \\\n",
    "    .agg({'page':'count'}).withColumnRenamed('count(page)', 'errorCount')\n",
    "userErrorCount.count()"
   ]
  },
  {
   "cell_type": "code",
   "execution_count": 26,
   "metadata": {},
   "outputs": [
    {
     "data": {
      "text/plain": [
       "207"
      ]
     },
     "execution_count": 26,
     "metadata": {},
     "output_type": "execute_result"
    }
   ],
   "source": [
    "# Create feature for roll advert count\n",
    "userRollAdvertCount = trim_df.filter((trim_df.page == 'Roll Advert')) \\\n",
    "    .groupBy('userId') \\\n",
    "    .agg({'page':'count'}).withColumnRenamed('count(page)', 'rollAdvertCount')\n",
    "userRollAdvertCount.count()"
   ]
  },
  {
   "cell_type": "code",
   "execution_count": 27,
   "metadata": {},
   "outputs": [
    {
     "data": {
      "text/plain": [
       "225"
      ]
     },
     "execution_count": 27,
     "metadata": {},
     "output_type": "execute_result"
    }
   ],
   "source": [
    "# Create feature for listening time\n",
    "userListeningTime = trim_df.filter((trim_df.page == 'NextSong')) \\\n",
    "    .groupBy('userId') \\\n",
    "    .agg({'length':'sum'}).withColumnRenamed('sum(length)', 'listeningTimeSec')\n",
    "userListeningTime.count()"
   ]
  },
  {
   "cell_type": "code",
   "execution_count": 28,
   "metadata": {},
   "outputs": [],
   "source": [
    "# Create dummy column for gender\n",
    "label_gender = funcs.udf(lambda x: 1 if x == \"M\" else 0, IntegerType())\n",
    "gender_df = sp_df.select('userID', 'gender')\n",
    "userGender = gender_df.withColumn(\"Male\", label_gender(\"gender\"))\n",
    "userGender = userGender.drop('gender')\n",
    "userGender = userGender.dropDuplicates()"
   ]
  },
  {
   "cell_type": "code",
   "execution_count": 29,
   "metadata": {},
   "outputs": [
    {
     "name": "stdout",
     "output_type": "stream",
     "text": [
      "+------+----+\n",
      "|userID|Male|\n",
      "+------+----+\n",
      "|    73|   0|\n",
      "|    37|   1|\n",
      "|    19|   0|\n",
      "+------+----+\n",
      "only showing top 3 rows\n",
      "\n"
     ]
    }
   ],
   "source": [
    "userGender.show(3)"
   ]
  },
  {
   "cell_type": "code",
   "execution_count": 33,
   "metadata": {},
   "outputs": [],
   "source": [
    "# Create feature for average items per session\n",
    "window = Window.partitionBy('userId').orderBy('dateTime')\n",
    "items_session_df = sp_df.withColumn(\"AvgItemsPerSess\", funcs.avg(\"itemInSession\").over(window))\n",
    "items_session_df = items_session_df.select('userID', 'AvgItemsPerSess')\n",
    "userAvgItemsPerSess = items_session_df.dropDuplicates(['userID'])"
   ]
  },
  {
   "cell_type": "code",
   "execution_count": 34,
   "metadata": {},
   "outputs": [
    {
     "name": "stdout",
     "output_type": "stream",
     "text": [
      "+------+---------------+\n",
      "|userID|AvgItemsPerSess|\n",
      "+------+---------------+\n",
      "|100010|           19.5|\n",
      "|200002|            3.0|\n",
      "|   125|            5.0|\n",
      "+------+---------------+\n",
      "only showing top 3 rows\n",
      "\n"
     ]
    }
   ],
   "source": [
    "userAvgItemsPerSess.show(3)"
   ]
  },
  {
   "cell_type": "markdown",
   "metadata": {},
   "source": [
    "### Joining the Dataframes"
   ]
  },
  {
   "cell_type": "code",
   "execution_count": 35,
   "metadata": {},
   "outputs": [],
   "source": [
    "# Using an outer join to not lose users from the analysis\n",
    "user_agg_df = userSongCount.join(userThumbUpCount, \"userId\", how='full')\n",
    "user_agg_df = user_agg_df.join(userThumbDownCount, \"userId\", how='full')\n",
    "user_agg_df = user_agg_df.join(userAddToPlaylistCount, \"userId\", how='full')\n",
    "user_agg_df = user_agg_df.join(userAddFriendCount, \"userId\", how='full')\n",
    "user_agg_df = user_agg_df.join(userErrorCount, \"userId\", how='full')\n",
    "user_agg_df = user_agg_df.join(userHelpCount, \"userId\", how='full')\n",
    "user_agg_df = user_agg_df.join(userRollAdvertCount, \"userId\", how='full')\n",
    "user_agg_df = user_agg_df.join(userListeningTime, \"userId\", how='full')\n",
    "user_agg_df = user_agg_df.join(userGender, \"userId\", how='full')\n",
    "user_agg_df = user_agg_df.join(userAvgItemsPerSess, \"userId\", how='full')\n",
    "user_agg_df = user_agg_df.withColumn(\"listeningTimeSec\", user_agg_df[\"listeningTimeSec\"].cast(IntegerType()))\n",
    "user_agg_df = user_agg_df.withColumn(\"AvgItemsPerSess\", user_agg_df[\"AvgItemsPerSess\"].cast(IntegerType()))"
   ]
  },
  {
   "cell_type": "code",
   "execution_count": 41,
   "metadata": {},
   "outputs": [
    {
     "data": {
      "text/plain": [
       "226"
      ]
     },
     "execution_count": 41,
     "metadata": {},
     "output_type": "execute_result"
    }
   ],
   "source": [
    "user_agg_df.count()"
   ]
  },
  {
   "cell_type": "markdown",
   "metadata": {},
   "source": [
    "### Handling Null Values"
   ]
  },
  {
   "cell_type": "code",
   "execution_count": 42,
   "metadata": {},
   "outputs": [
    {
     "name": "stdout",
     "output_type": "stream",
     "text": [
      "+------+---------+------------+--------------+------------------+--------------+----------+---------+---------------+----------------+----+---------------+-----------+\n",
      "|userId|songCount|thumbUpCount|thumbDownCount|AddToPlaylistCount|AddFriendCount|errorCount|helpCount|rollAdvertCount|listeningTimeSec|Male|AvgItemsPerSess|NumFeatures|\n",
      "+------+---------+------------+--------------+------------------+--------------+----------+---------+---------------+----------------+----+---------------+-----------+\n",
      "|     0|        0|           0|             0|                 0|             0|         0|        0|              0|               0|   0|              0|          0|\n",
      "+------+---------+------------+--------------+------------------+--------------+----------+---------+---------------+----------------+----+---------------+-----------+\n",
      "\n"
     ]
    }
   ],
   "source": [
    "# View null values\n",
    "user_agg_df.select([funcs.count(funcs.when(funcs.isnull(c), c)).alias(c) for c in user_agg_df.columns]).show()"
   ]
  },
  {
   "cell_type": "code",
   "execution_count": 43,
   "metadata": {},
   "outputs": [],
   "source": [
    "# Fill null values\n",
    "user_agg_df = user_agg_df.na.fill(0)"
   ]
  },
  {
   "cell_type": "markdown",
   "metadata": {},
   "source": [
    "### Vectorization"
   ]
  },
  {
   "cell_type": "code",
   "execution_count": 45,
   "metadata": {},
   "outputs": [],
   "source": [
    "assembler = VectorAssembler(inputCols=[\"songCount\",\"thumbUpCount\",\"thumbDownCount\",\"AddToPlaylistCount\",\n",
    "                                       \"AddFriendCount\",\"errorCount\",\"helpCount\",\"rollAdvertCount\",\n",
    "                                       \"listeningTimeSec\", \"Male\", \"AvgItemsPerSess\"], outputCol=\"NumFeatures\")\n",
    "user_agg_df = assembler.transform(user_agg_df)"
   ]
  },
  {
   "cell_type": "code",
   "execution_count": null,
   "metadata": {},
   "outputs": [],
   "source": [
    "user_agg_df.take(3)"
   ]
  },
  {
   "cell_type": "markdown",
   "metadata": {},
   "source": [
    "### Normalize the Vectors"
   ]
  },
  {
   "cell_type": "code",
   "execution_count": 46,
   "metadata": {},
   "outputs": [],
   "source": [
    "scaler = Normalizer(inputCol=\"NumFeatures\", outputCol=\"ScaledNumFeatures\")\n",
    "user_agg_df = scaler.transform(user_agg_df)"
   ]
  },
  {
   "cell_type": "code",
   "execution_count": 47,
   "metadata": {},
   "outputs": [
    {
     "data": {
      "text/plain": [
       "[Row(userId='100010', songCount=275, thumbUpCount=17, thumbDownCount=5, AddToPlaylistCount=7, AddFriendCount=4, errorCount=0, helpCount=2, rollAdvertCount=52, listeningTimeSec=66940, Male=0, AvgItemsPerSess=19, NumFeatures=DenseVector([275.0, 17.0, 5.0, 7.0, 4.0, 0.0, 2.0, 52.0, 66940.0, 0.0, 19.0]), ScaledNumFeatures=DenseVector([0.0041, 0.0003, 0.0001, 0.0001, 0.0001, 0.0, 0.0, 0.0008, 1.0, 0.0, 0.0003])),\n",
       " Row(userId='200002', songCount=387, thumbUpCount=21, thumbDownCount=6, AddToPlaylistCount=8, AddFriendCount=4, errorCount=0, helpCount=2, rollAdvertCount=7, listeningTimeSec=94008, Male=1, AvgItemsPerSess=3, NumFeatures=DenseVector([387.0, 21.0, 6.0, 8.0, 4.0, 0.0, 2.0, 7.0, 94008.0, 1.0, 3.0]), ScaledNumFeatures=DenseVector([0.0041, 0.0002, 0.0001, 0.0001, 0.0, 0.0, 0.0, 0.0001, 1.0, 0.0, 0.0])),\n",
       " Row(userId='125', songCount=8, thumbUpCount=0, thumbDownCount=0, AddToPlaylistCount=0, AddFriendCount=0, errorCount=0, helpCount=0, rollAdvertCount=1, listeningTimeSec=2089, Male=1, AvgItemsPerSess=5, NumFeatures=SparseVector(11, {0: 8.0, 7: 1.0, 8: 2089.0, 9: 1.0, 10: 5.0}), ScaledNumFeatures=SparseVector(11, {0: 0.0038, 7: 0.0005, 8: 1.0, 9: 0.0005, 10: 0.0024}))]"
      ]
     },
     "execution_count": 47,
     "metadata": {},
     "output_type": "execute_result"
    }
   ],
   "source": [
    "user_agg_df.take(3)"
   ]
  },
  {
   "cell_type": "markdown",
   "metadata": {},
   "source": [
    "### Scale the Vectors"
   ]
  },
  {
   "cell_type": "code",
   "execution_count": 48,
   "metadata": {},
   "outputs": [],
   "source": [
    "scaler2 = StandardScaler(inputCol=\"NumFeatures\", outputCol=\"ScaledNumFeatures2\", withStd=True)\n",
    "scalerModel = scaler2.fit(user_agg_df)\n",
    "user_agg_df = scalerModel.transform(user_agg_df)"
   ]
  },
  {
   "cell_type": "code",
   "execution_count": 49,
   "metadata": {},
   "outputs": [
    {
     "data": {
      "text/plain": [
       "[Row(userId='100010', songCount=275, thumbUpCount=17, thumbDownCount=5, AddToPlaylistCount=7, AddFriendCount=4, errorCount=0, helpCount=2, rollAdvertCount=52, listeningTimeSec=66940, Male=0, AvgItemsPerSess=19, NumFeatures=DenseVector([275.0, 17.0, 5.0, 7.0, 4.0, 0.0, 2.0, 52.0, 66940.0, 0.0, 19.0]), ScaledNumFeatures=DenseVector([0.0041, 0.0003, 0.0001, 0.0001, 0.0001, 0.0, 0.0, 0.0008, 1.0, 0.0, 0.0003]), ScaledNumFeatures2=DenseVector([0.249, 0.2598, 0.3826, 0.2141, 0.1944, 0.0, 0.1048, 2.4148, 0.2432, 0.0, 0.6289])),\n",
       " Row(userId='200002', songCount=387, thumbUpCount=21, thumbDownCount=6, AddToPlaylistCount=8, AddFriendCount=4, errorCount=0, helpCount=2, rollAdvertCount=7, listeningTimeSec=94008, Male=1, AvgItemsPerSess=3, NumFeatures=DenseVector([387.0, 21.0, 6.0, 8.0, 4.0, 0.0, 2.0, 7.0, 94008.0, 1.0, 3.0]), ScaledNumFeatures=DenseVector([0.0041, 0.0002, 0.0001, 0.0001, 0.0, 0.0, 0.0, 0.0001, 1.0, 0.0, 0.0]), ScaledNumFeatures2=DenseVector([0.3504, 0.3209, 0.4591, 0.2446, 0.1944, 0.0, 0.1048, 0.3251, 0.3415, 2.0006, 0.0993])),\n",
       " Row(userId='125', songCount=8, thumbUpCount=0, thumbDownCount=0, AddToPlaylistCount=0, AddFriendCount=0, errorCount=0, helpCount=0, rollAdvertCount=1, listeningTimeSec=2089, Male=1, AvgItemsPerSess=5, NumFeatures=SparseVector(11, {0: 8.0, 7: 1.0, 8: 2089.0, 9: 1.0, 10: 5.0}), ScaledNumFeatures=SparseVector(11, {0: 0.0038, 7: 0.0005, 8: 1.0, 9: 0.0005, 10: 0.0024}), ScaledNumFeatures2=SparseVector(11, {0: 0.0072, 7: 0.0464, 8: 0.0076, 9: 2.0006, 10: 0.1655}))]"
      ]
     },
     "execution_count": 49,
     "metadata": {},
     "output_type": "execute_result"
    }
   ],
   "source": [
    "user_agg_df.head(3)"
   ]
  },
  {
   "cell_type": "markdown",
   "metadata": {},
   "source": [
    "### Add Churned label"
   ]
  },
  {
   "cell_type": "code",
   "execution_count": 50,
   "metadata": {},
   "outputs": [],
   "source": [
    "churn_df = sp_df.select(['userID', 'phase']).withColumnRenamed('phase', 'label').dropDuplicates()"
   ]
  },
  {
   "cell_type": "code",
   "execution_count": 51,
   "metadata": {},
   "outputs": [
    {
     "data": {
      "text/plain": [
       "226"
      ]
     },
     "execution_count": 51,
     "metadata": {},
     "output_type": "execute_result"
    }
   ],
   "source": [
    "churn_df.count()"
   ]
  },
  {
   "cell_type": "code",
   "execution_count": 52,
   "metadata": {},
   "outputs": [],
   "source": [
    "features_labels = user_agg_df.select(['userID', 'ScaledNumFeatures2']).withColumnRenamed('ScaledNumFeatures2', 'features').dropDuplicates()"
   ]
  },
  {
   "cell_type": "code",
   "execution_count": 53,
   "metadata": {},
   "outputs": [],
   "source": [
    "features_labels = features_labels.join(churn_df, \"userId\", how='full')"
   ]
  },
  {
   "cell_type": "code",
   "execution_count": 54,
   "metadata": {},
   "outputs": [],
   "source": [
    "features_labels = features_labels.drop('userId')"
   ]
  },
  {
   "cell_type": "code",
   "execution_count": 55,
   "metadata": {},
   "outputs": [
    {
     "data": {
      "text/plain": [
       "[Row(features=DenseVector([0.249, 0.2598, 0.3826, 0.2141, 0.1944, 0.0, 0.1048, 2.4148, 0.2432, 0.0, 0.6289]), label=0),\n",
       " Row(features=DenseVector([0.3504, 0.3209, 0.4591, 0.2446, 0.1944, 0.0, 0.1048, 0.3251, 0.3415, 2.0006, 0.0993]), label=0),\n",
       " Row(features=SparseVector(11, {0: 0.0072, 7: 0.0464, 8: 0.0076, 9: 2.0006, 10: 0.1655}), label=1)]"
      ]
     },
     "execution_count": 55,
     "metadata": {},
     "output_type": "execute_result"
    }
   ],
   "source": [
    "features_labels.take(3)"
   ]
  },
  {
   "cell_type": "code",
   "execution_count": 56,
   "metadata": {},
   "outputs": [
    {
     "data": {
      "text/plain": [
       "226"
      ]
     },
     "execution_count": 56,
     "metadata": {},
     "output_type": "execute_result"
    }
   ],
   "source": [
    "features_labels.count()"
   ]
  },
  {
   "cell_type": "markdown",
   "metadata": {},
   "source": [
    "# Modeling\n",
    "Split the full dataset into train, test, and validation sets. Test out several of the machine learning methods you learned. Evaluate the accuracy of the various models, tuning parameters as necessary. Determine your winning model based on test accuracy and report results on the validation set. Since the churned users are a fairly small subset, I suggest using F1 score as the metric to optimize."
   ]
  },
  {
   "cell_type": "code",
   "execution_count": 57,
   "metadata": {},
   "outputs": [],
   "source": [
    "from pyspark.ml import Pipeline\n",
    "from pyspark.ml.linalg import Vectors\n",
    "from pyspark.ml.evaluation import RegressionEvaluator, MulticlassClassificationEvaluator\n",
    "from pyspark.ml.classification import LogisticRegression, GBTClassifier, RandomForestClassifier, NaiveBayes\n",
    "from pyspark.ml.tuning import CrossValidator, ParamGridBuilder"
   ]
  },
  {
   "cell_type": "markdown",
   "metadata": {},
   "source": [
    "### Train, Test Split"
   ]
  },
  {
   "cell_type": "code",
   "execution_count": 58,
   "metadata": {},
   "outputs": [],
   "source": [
    "# Split the data into training and test sets\n",
    "training_data, test_data = features_labels.randomSplit([0.7, 0.3])"
   ]
  },
  {
   "cell_type": "markdown",
   "metadata": {},
   "source": [
    "### Logisitc Regression"
   ]
  },
  {
   "cell_type": "code",
   "execution_count": null,
   "metadata": {},
   "outputs": [],
   "source": [
    "def logistic_regression(training_data):\n",
    "    \"\"\"Takes in training dataset, tests hyper parameter combinations, \n",
    "    performs cross validation, evaluates, and returns best model.\"\"\"\n",
    "    lr = LogisticRegression()\n",
    "\n",
    "    modelEvaluator=MulticlassClassificationEvaluator(metricName='f1')\n",
    "    pipeline = Pipeline(stages=[lr])\n",
    "    paramGrid = ParamGridBuilder().addGrid(lr.regParam, [0.05, 0.1, 0.3, 0.6]) \\\n",
    "                    .addGrid(lr.elasticNetParam, [0.2, 0.5, 1]) \\\n",
    "                    .addGrid(lr.family, [\"binomial\", \"multinomial\"]).build()\n",
    "\n",
    "    crossval = CrossValidator(estimator=lr,\n",
    "                              estimatorParamMaps=paramGrid,\n",
    "                              evaluator=modelEvaluator,\n",
    "                              parallelism=3,\n",
    "                              numFolds=3)\n",
    "\n",
    "    cvModel = crossval.fit(training_data)\n",
    "\n",
    "    return cvModel\n",
    "\n",
    "lr_summary = logistic_regression(training_data)"
   ]
  },
  {
   "cell_type": "code",
   "execution_count": null,
   "metadata": {},
   "outputs": [],
   "source": [
    "lr_results = lr_summary.transform(test_data)"
   ]
  },
  {
   "cell_type": "code",
   "execution_count": null,
   "metadata": {},
   "outputs": [],
   "source": [
    "lr_evaluator = MulticlassClassificationEvaluator(predictionCol=\"prediction\")\n",
    "lr_f1 = lr_evaluator.evaluate(lr_results, {lr_evaluator.metricName: \"f1\"})"
   ]
  },
  {
   "cell_type": "code",
   "execution_count": null,
   "metadata": {},
   "outputs": [],
   "source": [
    "lr_acc = lr_evaluator.evaluate(lr_results, {lr_evaluator.metricName: \"accuracy\"})"
   ]
  },
  {
   "cell_type": "code",
   "execution_count": null,
   "metadata": {},
   "outputs": [],
   "source": [
    "print(\"F1 Score: \", lr_f1)\n",
    "print(\"Accuracy: \", lr_acc)"
   ]
  },
  {
   "cell_type": "markdown",
   "metadata": {},
   "source": [
    "### Random Forrest Trees"
   ]
  },
  {
   "cell_type": "code",
   "execution_count": null,
   "metadata": {},
   "outputs": [],
   "source": [
    "def random_forrest(training_data):\n",
    "    \"\"\"Takes in training dataset, tests hyper parameter combinations, \n",
    "    performs cross validation, evaluates, and returns best model.\"\"\"\n",
    "    rf = RandomForestClassifier()\n",
    "\n",
    "    modelEvaluator=MulticlassClassificationEvaluator(metricName='f1')\n",
    "    pipeline = Pipeline(stages=[rf])\n",
    "    paramGrid = ParamGridBuilder().addGrid(rf.numTrees, [2, 5, 8]) \\\n",
    "                    .addGrid(rf.maxDepth, [2, 4, 6]).build()\n",
    "\n",
    "    crossval = CrossValidator(estimator=rf,\n",
    "                              estimatorParamMaps=paramGrid,\n",
    "                              evaluator=modelEvaluator,\n",
    "                              parallelism=3,\n",
    "                              numFolds=3)\n",
    "\n",
    "    cvModel = crossval.fit(training_data)\n",
    "\n",
    "    return cvModel\n",
    "\n",
    "rft_summary = random_forrest(training_data)"
   ]
  },
  {
   "cell_type": "code",
   "execution_count": null,
   "metadata": {},
   "outputs": [],
   "source": [
    "rft_results = rft_summary.transform(test_data)"
   ]
  },
  {
   "cell_type": "code",
   "execution_count": null,
   "metadata": {},
   "outputs": [],
   "source": [
    "rft_summary.bestModel"
   ]
  },
  {
   "cell_type": "code",
   "execution_count": null,
   "metadata": {},
   "outputs": [],
   "source": [
    "rft_evaluator = MulticlassClassificationEvaluator(predictionCol=\"prediction\")\n",
    "rft_f1 = rft_evaluator.evaluate(rft_results, {rft_evaluator.metricName: \"f1\"})"
   ]
  },
  {
   "cell_type": "code",
   "execution_count": null,
   "metadata": {},
   "outputs": [],
   "source": [
    "rft_acc = rft_evaluator.evaluate(rft_results, {rft_evaluator.metricName: \"accuracy\"})"
   ]
  },
  {
   "cell_type": "code",
   "execution_count": null,
   "metadata": {},
   "outputs": [],
   "source": [
    "print(\"F1 Score: \", rft_f1)\n",
    "print(\"Accuracy: \", rft_acc)"
   ]
  },
  {
   "cell_type": "markdown",
   "metadata": {},
   "source": [
    "### Gradient Boosted Trees"
   ]
  },
  {
   "cell_type": "code",
   "execution_count": null,
   "metadata": {},
   "outputs": [],
   "source": [
    "def gradient_boosted_trees(training_data):\n",
    "    \"\"\"Takes in training dataset, tests hyper parameter combinations, \n",
    "    performs cross validation, evaluates, and returns best model.\"\"\"\n",
    "    gbt = GBTClassifier()\n",
    "\n",
    "    modelEvaluator=MulticlassClassificationEvaluator(metricName='f1')\n",
    "    pipeline = Pipeline(stages=[gbt])\n",
    "    paramGrid = ParamGridBuilder().addGrid(gbt.maxIter, [2, 5]) \\\n",
    "                    .addGrid(gbt.seed, [15, 30]).build()\n",
    "\n",
    "    crossval = CrossValidator(estimator=gbt,\n",
    "                              estimatorParamMaps=paramGrid,\n",
    "                              evaluator=modelEvaluator,\n",
    "                              parallelism=3,\n",
    "                              numFolds=3)\n",
    "\n",
    "    cvModel = crossval.fit(training_data)\n",
    "\n",
    "    return cvModel\n",
    "\n",
    "gbt_summary = gradient_boosted_trees(training_data)"
   ]
  },
  {
   "cell_type": "code",
   "execution_count": null,
   "metadata": {},
   "outputs": [],
   "source": [
    "gbt_results = gbt_summary.transform(test_data)"
   ]
  },
  {
   "cell_type": "code",
   "execution_count": null,
   "metadata": {},
   "outputs": [],
   "source": [
    "gbt_summary.bestModel"
   ]
  },
  {
   "cell_type": "code",
   "execution_count": null,
   "metadata": {},
   "outputs": [],
   "source": [
    "gbt_evaluator = MulticlassClassificationEvaluator(predictionCol=\"prediction\")\n",
    "gbt_f1 = gbt_evaluator.evaluate(gbt_results, {gbt_evaluator.metricName: \"f1\"})"
   ]
  },
  {
   "cell_type": "code",
   "execution_count": null,
   "metadata": {},
   "outputs": [],
   "source": [
    "gbt_acc = gbt_evaluator.evaluate(gbt_results, {gbt_evaluator.metricName: \"accuracy\"})"
   ]
  },
  {
   "cell_type": "code",
   "execution_count": null,
   "metadata": {},
   "outputs": [],
   "source": [
    "print(\"F1 Score: \", gbt_f1)\n",
    "print(\"Accuracy: \", gbt_acc)"
   ]
  },
  {
   "cell_type": "markdown",
   "metadata": {},
   "source": [
    "### Naive Bayes"
   ]
  },
  {
   "cell_type": "code",
   "execution_count": null,
   "metadata": {},
   "outputs": [],
   "source": [
    "def naive_bayes(training_data):\n",
    "    \"\"\"Takes in training dataset, tests hyper parameter combinations, \n",
    "    performs cross validation, evaluates, and returns best model.\"\"\"\n",
    "    nb = NaiveBayes(modelType=\"multinomial\")\n",
    "\n",
    "    modelEvaluator=MulticlassClassificationEvaluator(metricName='f1')\n",
    "    pipeline = Pipeline(stages=[nb])\n",
    "    paramGrid = ParamGridBuilder().addGrid(nb.smoothing, [1.0, 2.0]).build()\n",
    "\n",
    "    crossval = CrossValidator(estimator=nb,\n",
    "                              estimatorParamMaps=paramGrid,\n",
    "                              evaluator=modelEvaluator,\n",
    "                              parallelism=3,\n",
    "                              numFolds=3)\n",
    "\n",
    "    cvModel = crossval.fit(training_data)\n",
    "\n",
    "    return cvModel\n",
    "\n",
    "nb_summary = naive_bayes(training_data)"
   ]
  },
  {
   "cell_type": "code",
   "execution_count": null,
   "metadata": {},
   "outputs": [],
   "source": [
    "nb_results = nb_summary.transform(test_data)"
   ]
  },
  {
   "cell_type": "code",
   "execution_count": null,
   "metadata": {},
   "outputs": [],
   "source": [
    "nb_summary.bestModel"
   ]
  },
  {
   "cell_type": "code",
   "execution_count": null,
   "metadata": {},
   "outputs": [],
   "source": [
    "nb_evaluator = MulticlassClassificationEvaluator(predictionCol=\"prediction\")\n",
    "nb_f1 = nb_evaluator.evaluate(nb_results, {gbt_evaluator.metricName: \"f1\"})"
   ]
  },
  {
   "cell_type": "code",
   "execution_count": null,
   "metadata": {},
   "outputs": [],
   "source": [
    "nb_acc = nb_evaluator.evaluate(nb_results, {nb_evaluator.metricName: \"accuracy\"})"
   ]
  },
  {
   "cell_type": "code",
   "execution_count": null,
   "metadata": {},
   "outputs": [],
   "source": [
    "print(\"F1 Score: \", nb_f1)\n",
    "print(\"Accuracy: \", nb_acc)"
   ]
  },
  {
   "cell_type": "code",
   "execution_count": null,
   "metadata": {},
   "outputs": [],
   "source": [
    "print(\"Random Forest F1 Score: \", rft_f1)\n",
    "print(\"Gradient Boosted F1 Score: \", gbt_f1)\n",
    "print(\"Logistic Regression F1 Score: \", lr_f1)\n",
    "print(\"Naive Bayes F1 Score: \", nb_f1)"
   ]
  },
  {
   "cell_type": "code",
   "execution_count": null,
   "metadata": {},
   "outputs": [],
   "source": []
  }
 ],
 "metadata": {
  "kernelspec": {
   "display_name": "Python 3",
   "language": "python",
   "name": "python3"
  },
  "language_info": {
   "codemirror_mode": {
    "name": "ipython",
    "version": 3
   },
   "file_extension": ".py",
   "mimetype": "text/x-python",
   "name": "python",
   "nbconvert_exporter": "python",
   "pygments_lexer": "ipython3",
   "version": "3.6.3"
  }
 },
 "nbformat": 4,
 "nbformat_minor": 2
}
